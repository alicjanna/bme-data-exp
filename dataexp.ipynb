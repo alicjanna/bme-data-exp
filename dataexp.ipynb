{
 "cells": [
  {
   "cell_type": "markdown",
   "metadata": {},
   "source": [
    "# 20171025 - My data exploration lab notes"
   ]
  },
  {
   "cell_type": "markdown",
   "metadata": {},
   "source": [
    "# Code Like a Pythonista"
   ]
  },
  {
   "cell_type": "markdown",
   "metadata": {},
   "source": [
    "### Iterating over list/set/dict"
   ]
  },
  {
   "cell_type": "code",
   "execution_count": 7,
   "metadata": {},
   "outputs": [
    {
     "name": "stdout",
     "output_type": "stream",
     "text": [
      "monkey\n",
      "doggo\n",
      "cat\n",
      "fish\n"
     ]
    }
   ],
   "source": [
    "# Iterating over set\n",
    "animals = {'cat', 'doggo', 'fish', 'monkey'}\n",
    "for animal in animals:\n",
    "    print('{}'.format(animal))"
   ]
  },
  {
   "cell_type": "code",
   "execution_count": 8,
   "metadata": {},
   "outputs": [
    {
     "name": "stdout",
     "output_type": "stream",
     "text": [
      "0: monkey\n",
      "1: doggo\n",
      "2: cat\n",
      "3: fish\n"
     ]
    }
   ],
   "source": [
    "# Iterating over set (and generating an index)\n",
    "animals = {'cat', 'doggo', 'fish', 'monkey'}\n",
    "for idx, animal in enumerate(animals):\n",
    "    print('{}: {}'.format(idx,animal))"
   ]
  },
  {
   "cell_type": "markdown",
   "metadata": {},
   "source": [
    "### List/Set/Dict Comprehensions\n",
    "\n",
    "Python supports list comprehensions, that can be used to construct lists in a very natural way, similar to mathematic construction.\n",
    "\n",
    "\n",
    "[ output_expression() for(set of values to iterate) if(conditional filtering) ]\n"
   ]
  },
  {
   "cell_type": "code",
   "execution_count": 3,
   "metadata": {},
   "outputs": [
    {
     "name": "stdout",
     "output_type": "stream",
     "text": [
      "[0, 1, 4, 9, 16, 25, 36, 49, 64, 81]\n",
      "[0, 4, 16, 36, 64]\n",
      "{0, 1, 2, 3, 4, 5, 6, 7, 8, 9}\n",
      "{'a': 17, 'b': 34, 'z': 3}\n",
      "{'Alice', 'John', 'Bob'}\n",
      "[[1, 0, 0], [0, 1, 0], [0, 0, 1]]\n"
     ]
    }
   ],
   "source": [
    "#List comprehension\n",
    "list1 = [x**2 for x in range(10)]\n",
    "print(list1)\n",
    "\n",
    "list2 = [x for x in list1 if x % 2 == 0]\n",
    "print(list2)\n",
    "\n",
    "#Set comprehension\n",
    "nums = {x for x in range(10)}\n",
    "print(nums)  # Prints \"{0, 1, 2, 3, 4, 5}\"\n",
    "\n",
    "#Dict comprehension\n",
    "mcase = {'a':10, 'b': 34, 'A': 7, 'Z':3}\n",
    "mcase_frequency = { k.lower() : mcase.get(k.lower(), 0) + mcase.get(k.upper(), 0) for k in mcase.keys() }\n",
    "print(mcase_frequency)\n",
    "\n",
    "#Set comprehension from list\n",
    "names = [ 'Bob', 'JOHN', 'alice', 'bob', 'ALICE', 'J', 'Bob' ]\n",
    "names_set = { name[0].upper() + name[1:].lower() for name in names if len(name) > 1 }\n",
    "print(names_set)\n",
    "\n",
    "#Nested list comprehension\n",
    "matrix = [ [ 1 if item_idx == row_idx else 0 for item_idx in range(0, 3) ] for row_idx in range(0, 3) ]\n",
    "print(matrix)"
   ]
  },
  {
   "cell_type": "markdown",
   "metadata": {},
   "source": [
    "### The power of comprehension"
   ]
  },
  {
   "cell_type": "code",
   "execution_count": 4,
   "metadata": {},
   "outputs": [
    {
     "name": "stdout",
     "output_type": "stream",
     "text": [
      "[2, 6, 10, 14, 18, 22, 26, 30, 34, 38]\n",
      "[2, 6, 10, 14, 18, 22, 26, 30, 34, 38]\n"
     ]
    }
   ],
   "source": [
    "numbers = range(20)\n",
    "\n",
    "numbers_doubled_odds = []\n",
    "for n in numbers:\n",
    "    if n%2 == 1:\n",
    "        numbers_doubled_odds.append(n*2)\n",
    "        \n",
    "print(numbers_doubled_odds)\n",
    "\n",
    "#vs\n",
    "\n",
    "numbers_doubled_odds = [n*2 for n in numbers if n%2==1]\n",
    "print(numbers_doubled_odds)"
   ]
  },
  {
   "cell_type": "code",
   "execution_count": 5,
   "metadata": {},
   "outputs": [
    {
     "name": "stdout",
     "output_type": "stream",
     "text": [
      "[2, 3, 5, 7, 11, 13, 17, 19, 23, 29, 31, 37, 41, 43, 47, 53, 59, 61, 67, 71, 73, 79, 83, 89, 97]\n"
     ]
    }
   ],
   "source": [
    "# Calculating prime numbers\n",
    "noprimes = [j for i in range(2, 8) for j in range(i*2, 100, i)]\n",
    "primes = [x for x in range(2, 100) if x not in noprimes]\n",
    "print(primes)"
   ]
  },
  {
   "cell_type": "markdown",
   "metadata": {},
   "source": [
    "# Basic Numpy data structures"
   ]
  },
  {
   "cell_type": "code",
   "execution_count": 10,
   "metadata": {},
   "outputs": [
    {
     "name": "stdout",
     "output_type": "stream",
     "text": [
      "Data in arr1D:\n",
      " [ 1  2  3  4  5  6  7  8  9 10]\n"
     ]
    },
    {
     "data": {
      "text/plain": [
       "array([ 1,  2,  3,  4,  5,  6,  7,  8,  9, 10])"
      ]
     },
     "execution_count": 10,
     "metadata": {},
     "output_type": "execute_result"
    }
   ],
   "source": [
    "import numpy as np\n",
    "\n",
    "array1D = np.array([1,2,3,4,5,6,7,8, 9, 10])\n",
    "\n",
    "#Standard print\n",
    "print('Data in arr1D:\\n', array1D)\n",
    "\n",
    "#The last line is evaluated\n",
    "array1D"
   ]
  },
  {
   "cell_type": "code",
   "execution_count": 7,
   "metadata": {},
   "outputs": [
    {
     "name": "stdout",
     "output_type": "stream",
     "text": [
      "Data in arr2D:\n",
      " [[1 2 3 4]\n",
      " [5 6 7 8]]\n"
     ]
    },
    {
     "data": {
      "text/plain": [
       "array([[1, 2, 3, 4],\n",
       "       [5, 6, 7, 8]])"
      ]
     },
     "execution_count": 7,
     "metadata": {},
     "output_type": "execute_result"
    }
   ],
   "source": [
    "array2D = np.array([[1,2,3,4],[5,6,7,8]])\n",
    "\n",
    "print('Data in arr2D:\\n', array2D)\n",
    "\n",
    "array2D"
   ]
  },
  {
   "cell_type": "code",
   "execution_count": 8,
   "metadata": {},
   "outputs": [
    {
     "name": "stdout",
     "output_type": "stream",
     "text": [
      "[[1 2 3 4]\n",
      " [5 6 7 8]]\n",
      "[[2 3]\n",
      " [6 7]]\n"
     ]
    }
   ],
   "source": [
    "# Slicing works the same as in standard Python\n",
    "\n",
    "array2D = np.array([[1,2,3,4],[5,6,7,8]])\n",
    "print(array2D)\n",
    "\n",
    "mini_array2D = array2D[:2, 1:3]\n",
    "print(mini_array2D)"
   ]
  },
  {
   "cell_type": "markdown",
   "metadata": {},
   "source": [
    "## Creating arrays"
   ]
  },
  {
   "cell_type": "code",
   "execution_count": 11,
   "metadata": {},
   "outputs": [
    {
     "name": "stdout",
     "output_type": "stream",
     "text": [
      "[[ 0.  0.  0.  0.]\n",
      " [ 0.  0.  0.  0.]]\n",
      "gap\n",
      "[[ 1.  1.  1.  1.]\n",
      " [ 1.  1.  1.  1.]]\n",
      "[[ 0.8  0.8  0.8  0.8]\n",
      " [ 0.8  0.8  0.8  0.8]]\n",
      "[[ 0.22674701  0.27315131  0.84867432  0.47392144]\n",
      " [ 0.86111525  0.71474744  0.29205063  0.87481674]]\n",
      "<class 'numpy.ndarray'>\n",
      "(2, 4)\n"
     ]
    }
   ],
   "source": [
    "array2D = np.zeros((2,4))\n",
    "print(array2D)\n",
    "print('gap')\n",
    "\n",
    "array2D = np.ones((2,4))\n",
    "print(array2D)\n",
    "\n",
    "array2D = np.full((2,4),0.8)\n",
    "print(array2D)\n",
    "\n",
    "array2D = np.random.random((2,4))\n",
    "print(array2D)\n",
    "\n",
    "print(type(array2D))\n",
    "print(array2D.shape)"
   ]
  },
  {
   "cell_type": "markdown",
   "metadata": {},
   "source": [
    "## Changing the shape of arrays"
   ]
  },
  {
   "cell_type": "code",
   "execution_count": 10,
   "metadata": {},
   "outputs": [
    {
     "name": "stdout",
     "output_type": "stream",
     "text": [
      "[ 0  1  2  3  4  5  6  7  8  9 10 11] \n",
      "\n",
      "[[ 0  1  2  3  4  5]\n",
      " [ 6  7  8  9 10 11]] \n",
      "\n",
      "[[ 0  1]\n",
      " [ 2  3]\n",
      " [ 4  5]\n",
      " [ 6  7]\n",
      " [ 8  9]\n",
      " [10 11]] \n",
      "\n",
      "[[[ 0  1  2]\n",
      "  [ 3  4  5]]\n",
      "\n",
      " [[ 6  7  8]\n",
      "  [ 9 10 11]]] \n",
      "\n",
      "[[[ 0  1]\n",
      "  [ 2  3]]\n",
      "\n",
      " [[ 4  5]\n",
      "  [ 6  7]]\n",
      "\n",
      " [[ 8  9]\n",
      "  [10 11]]] \n",
      "\n"
     ]
    }
   ],
   "source": [
    "array1D = np.arange(12)\n",
    "print(array1D,'\\n')\n",
    "\n",
    "array2D = array1D.reshape(2,6) \n",
    "print(array2D,'\\n')\n",
    "\n",
    "array2D = array1D.reshape(6,2) \n",
    "print(array2D,'\\n')\n",
    "\n",
    "array3D = array1D.reshape(2,2,3) \n",
    "print(array3D,'\\n')\n",
    "\n",
    "array3D = array1D.reshape(3,2,2) \n",
    "print(array3D,'\\n')"
   ]
  },
  {
   "cell_type": "markdown",
   "metadata": {},
   "source": [
    "## Statistics"
   ]
  },
  {
   "cell_type": "code",
   "execution_count": 14,
   "metadata": {
    "scrolled": true
   },
   "outputs": [
    {
     "name": "stdout",
     "output_type": "stream",
     "text": [
      "\n",
      " Numpy 2-dim array\n",
      "[[ 0.15468805  0.89394414  0.68868994 -0.47859449 -1.20005822]\n",
      " [-0.39649004 -0.15512415 -0.09884943 -0.50641124 -0.08028608]\n",
      " [ 0.43753406  0.79346322 -0.49464386  0.01305146 -0.41765948]\n",
      " [ 0.84557461  0.59669936  0.31322777 -1.35041324  0.91748042]\n",
      " [ 0.83509506  2.65901158 -0.14469849 -0.31981702  1.42864968]\n",
      " [-0.51322067 -0.325381    0.38210968 -0.23047615 -0.7370268 ]\n",
      " [ 0.28068688 -0.83187395  0.11265307 -2.24200251  0.68628031]\n",
      " [-1.23642966  0.04532899  0.14005113  0.32334973  0.06125671]\n",
      " [ 2.69677752 -0.57409252 -1.15976145  0.23125321 -2.17933533]\n",
      " [-0.54366854  0.76879042  1.85457162 -0.00791266 -0.97600786]]\n",
      "\n",
      " Standard deviation of array\n",
      "0.964253049271\n",
      "\n",
      " Mean of array\n",
      "0.0191996765281\n",
      "\n",
      " Median of array\n",
      "0.00256940432304\n",
      "\n",
      " Min element of array\n",
      "-2.24200250974\n",
      "\n",
      " Max element of array\n",
      "2.69677751711\n"
     ]
    }
   ],
   "source": [
    "print('\\n Numpy 2-dim array')\n",
    "tab10n5 = np.random.randn(10,5)\n",
    "\n",
    "print(tab10n5)\n",
    "print('\\n Standard deviation of array')\n",
    "print(np.std(tab10n5))\n",
    "print('\\n Mean of array')\n",
    "print(np.mean(tab10n5))\n",
    "print('\\n Median of array')\n",
    "print(np.median(tab10n5))\n",
    "print('\\n Min element of array')\n",
    "print(np.min(tab10n5))\n",
    "print('\\n Max element of array')\n",
    "print(np.max(tab10n5))"
   ]
  },
  {
   "cell_type": "markdown",
   "metadata": {},
   "source": [
    "## Stacking together different arrays\n",
    "\n",
    "Take a quick look at [tutorial](https://docs.scipy.org/doc/numpy-dev/user/quickstart.html)\n",
    "and fill the next cell\n"
   ]
  },
  {
   "cell_type": "code",
   "execution_count": 17,
   "metadata": {},
   "outputs": [
    {
     "name": "stdout",
     "output_type": "stream",
     "text": [
      "[[ 1.  2.]\n",
      " [ 6.  0.]\n",
      " [ 2.  6.]\n",
      " [ 3.  9.]]\n",
      "[[ 1.  2.  2.  6.]\n",
      " [ 6.  0.  3.  9.]]\n"
     ]
    }
   ],
   "source": [
    "a = np.floor(10*np.random.random((2,2)))\n",
    "b = np.floor(10*np.random.random((2,2)))\n",
    "\n",
    "#vertical stack\n",
    "print(np.vstack((a,b)))\n",
    "\n",
    "#horizontal stack\n",
    "print(np.hstack((a,b)))"
   ]
  },
  {
   "cell_type": "markdown",
   "metadata": {},
   "source": [
    "## Plotting"
   ]
  },
  {
   "cell_type": "code",
   "execution_count": 21,
   "metadata": {},
   "outputs": [
    {
     "data": {
      "image/png": "[encoded data removed]",
      "text/plain": [
       "<matplotlib.figure.Figure at 0x7f924f811e10>"
      ]
     },
     "metadata": {},
     "output_type": "display_data"
    }
   ],
   "source": [
    "%matplotlib inline\n",
    "\n",
    "import numpy as np\n",
    "import matplotlib.pyplot as plt\n",
    "\n",
    "x = np.linspace(0, 3*np.pi, 50)\n",
    "plt.plot(x, np.cos(x**2))\n",
    "plt.title('A simple chirp');"
   ]
  },
  {
   "cell_type": "markdown",
   "metadata": {},
   "source": [
    "## Importing data"
   ]
  },
  {
   "cell_type": "code",
   "execution_count": 24,
   "metadata": {},
   "outputs": [
    {
     "name": "stdout",
     "output_type": "stream",
     "text": [
      "[[      nan  7363000.  7736000.  7864000.  7984000.  8121000.  8233000.\n",
      "   8330000.  8441000.]\n",
      " [      nan  5187000.  5171000.  5199000.  5243000.  5176000.  5270000.\n",
      "   5337000.  5359000.]\n",
      " [      nan   191000.   209000.   229000.   272000.   277000.   285000.\n",
      "    279000.   290000.]\n",
      " [      nan    47000.   113000.   111000.   127000.   151000.   145000.\n",
      "    143000.   178000.]\n",
      " [      nan    56000.    97000.    85000.    91000.   104000.   123000.\n",
      "    135000.   134000.]]\n"
     ]
    }
   ],
   "source": [
    "import csv\n",
    "import numpy as np\n",
    "\n",
    "data = np.genfromtxt('country-of-birth-london-min.csv', skip_header=1, delimiter=';')\n",
    "print(data[:5,:])"
   ]
  },
  {
   "cell_type": "code",
   "execution_count": 16,
   "metadata": {},
   "outputs": [
    {
     "name": "stdout",
     "output_type": "stream",
     "text": [
      "[['Country']\n",
      " ['Total']\n",
      " ['United Kingdom']\n",
      " ['India']\n",
      " ['Poland']]\n"
     ]
    }
   ],
   "source": [
    "raw_data = np.genfromtxt('country-of-birth-london-min.csv', delimiter=';', dtype=None)\n",
    "names = raw_data[:5,:1].astype(str)\n",
    "print(names)"
   ]
  },
  {
   "cell_type": "code",
   "execution_count": 72,
   "metadata": {},
   "outputs": [
    {
     "name": "stdout",
     "output_type": "stream",
     "text": [
      "<class 'list'>\n",
      "<class 'numpy.ndarray'>\n",
      "(73,)\n",
      "[['Total' '5242750.0']\n",
      " ['United Kingdom' '254000.0']\n",
      " ['India' '126875.0']\n",
      " ['Poland' '103125.0']\n",
      " ['Pakistan' '124125.0']\n",
      " ['Bangladesh' '113125.0']\n",
      " ['Ireland' '95625.0']\n",
      " ['Nigeria' '55142.857142857145']\n",
      " ['Romania' '77875.0']\n",
      " ['Sri Lanka' '55375.0']\n",
      " ['Italy' '65375.0']\n",
      " ['Somalia' '62000.0']\n",
      " ['France' '79125.0']\n",
      " ['Jamaica' '58875.0']\n",
      " ['Ghana' '68500.0']\n",
      " ['Kenya' '60375.0']\n",
      " ['United States' '46750.0']\n",
      " ['Australia' '50375.0']\n",
      " ['Germany' '39714.28571428572']\n",
      " ['Afghanistan' '47875.0']\n",
      " ['Turkey' '39250.0']\n",
      " ['Philippines' '60750.0']\n",
      " ['South Africa' '41500.0']\n",
      " ['Portugal' '42857.142857142855']\n",
      " ['Lithuania' '29750.0']\n",
      " ['Spain' '31250.0']\n",
      " ['Iraq' '28428.571428571428']\n",
      " ['Bulgaria' '29375.0']\n",
      " ['Iran' '30000.0']\n",
      " ['Brazil' '25625.0']\n",
      " ['New Zealand' '30375.0']\n",
      " ['Uganda' '23875.0']\n",
      " ['Mauritius' '18166.666666666668']\n",
      " ['Nepal' '15250.0']\n",
      " ['Greece' '31000.0']\n",
      " ['China' '14800.0']\n",
      " ['Latvia' '22250.0']\n",
      " ['Zimbabwe' '19500.0']\n",
      " ['Canada' '17833.333333333332']\n",
      " ['Hungary' '19750.0']\n",
      " ['Cyprus (Not Otherwise Specified)' '19250.0']\n",
      " ['Malaysia' '13142.857142857143']\n",
      " ['Netherlands' '21000.0']\n",
      " ['Hong Kong (Special Admin Reg Of China)' '16000.0']\n",
      " ['Kosovo' '21250.0']\n",
      " ['Japan' '15000.0']\n",
      " ['Tanzania' '17250.0']\n",
      " ['Colombia' '20875.0']\n",
      " ['Russia' '12875.0']\n",
      " ['Sierra Leone' '14125.0']\n",
      " ['Vietnam' '11833.333333333334']\n",
      " ['Egypt' '14000.0']\n",
      " ['Ecuador' '13142.857142857143']\n",
      " ['Trinidad And Tobago' '13428.57142857143']\n",
      " ['Morocco' '11666.666666666666']\n",
      " ['Singapore' '13000.0']\n",
      " ['China (Taiwan)' '13500.0']\n",
      " ['Guyana' '11750.0']\n",
      " ['Ethiopia' '12000.0']\n",
      " ['Saudi Arabia' '12000.0']\n",
      " ['Lebanon' '11400.0']\n",
      " ['Cyprus (Non-European Union)' '11000.0']\n",
      " ['Denmark' '12500.0']\n",
      " ['Sweden' '10333.333333333334']\n",
      " ['Ukraine' '10800.0']\n",
      " ['Slovakia' '11000.0']\n",
      " ['Korea (South)' '12500.0']\n",
      " ['Israel' '11000.0']\n",
      " ['Albania' '11000.0']\n",
      " ['Barbados' '10750.0']\n",
      " ['Congo (Democratic Republic)' '13800.0']\n",
      " ['Cyprus (European Union)' '12750.0']\n",
      " ['Algeria' '338625.0']]\n"
     ]
    }
   ],
   "source": [
    "births = data[1:,1:]\n",
    "#print(births)\n",
    "\n",
    "means = [np.nanmean(row) for row in births]\n",
    "print(type(means))\n",
    "means = np.array(means)\n",
    "print(type(means))\n",
    "print(means.shape)\n",
    "means = means.reshape(73,1)\n",
    "\n",
    "raw_data = np.genfromtxt('country-of-birth-london-min.csv', delimiter=';', dtype=None)\n",
    "names = raw_data[:,:1].astype(str)\n",
    "\n",
    "print(np.hstack((names[1:-1],means)))\n",
    "\n",
    "#sum of births per year in the world\n",
    "\n"
   ]
  },
  {
   "cell_type": "code",
   "execution_count": 86,
   "metadata": {},
   "outputs": [
    {
     "data": {
      "image/png": "[encoded data removed]",
      "text/plain": [
       "<matplotlib.figure.Figure at 0x7f924ed942e8>"
      ]
     },
     "metadata": {},
     "output_type": "display_data"
    }
   ],
   "source": [
    "%matplotlib inline\n",
    "\n",
    "import numpy as np\n",
    "import matplotlib.pyplot as plt\n",
    "\n",
    "\n",
    "y = means[1:,:]\n",
    "N = len(y)\n",
    "x = range(N)\n",
    "width = 1/1.5\n",
    "plt.bar(x, y, width, color=\"blue\")\n",
    "plt.xlabel('counry')\n",
    "plt.ylabel('# of births')\n",
    "plt.tight_layout()\n",
    "plt.show()\n"
   ]
  },
  {
   "cell_type": "markdown",
   "metadata": {
    "collapsed": true
   },
   "source": [
    "# Miniproject - data exploration\n",
    "\n",
    "[Global Terrorism Database](https://www.kaggle.com/START-UMD/gtd)"
   ]
  },
  {
   "cell_type": "code",
   "execution_count": 87,
   "metadata": {
    "collapsed": true
   },
   "outputs": [],
   "source": [
    "# Instructions will be given during lab"
   ]
  },
  {
   "cell_type": "code",
   "execution_count": null,
   "metadata": {
    "collapsed": true
   },
   "outputs": [],
   "source": [
    "new repo , new notebook, send link to repo S"
   ]
  }
 ],
 "metadata": {
  "kernelspec": {
   "display_name": "Python 3",
   "language": "python",
   "name": "python3"
  },
  "language_info": {
   "codemirror_mode": {
    "name": "ipython",
    "version": 3
   },
   "file_extension": ".py",
   "mimetype": "text/x-python",
   "name": "python",
   "nbconvert_exporter": "python",
   "pygments_lexer": "ipython3",
   "version": "3.6.1"
  }
 },
 "nbformat": 4,
 "nbformat_minor": 1
}
